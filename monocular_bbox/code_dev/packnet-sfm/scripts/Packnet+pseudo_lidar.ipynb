{
  "cells": [
    {
      "cell_type": "markdown",
      "metadata": {
        "id": "N7UeBmzVJYiw"
      },
      "source": [
        "# **PackNet SFM**"
      ]
    },
    {
      "cell_type": "code",
      "execution_count": null,
      "metadata": {
        "id": "413PIDwPq2AN"
      },
      "outputs": [],
      "source": [
        "!sudo apt-get remove gcc g++"
      ]
    },
    {
      "cell_type": "code",
      "execution_count": null,
      "metadata": {
        "id": "crUnmlkPq548"
      },
      "outputs": [],
      "source": [
        "############ \n",
        "# Put these lines in /etc/apt/sources.list\n",
        "#deb http://dk.archive.ubuntu.com/ubuntu/ xenial main\n",
        "#deb http://dk.archive.ubuntu.com/ubuntu/ xenial universe"
      ]
    },
    {
      "cell_type": "code",
      "execution_count": null,
      "metadata": {
        "id": "eLX_LlPQq6Cf"
      },
      "outputs": [],
      "source": [
        "%%bash\n",
        "sudo apt-get update\n",
        "sudo apt-get install gcc-4.9 g++-4.9"
      ]
    },
    {
      "cell_type": "code",
      "execution_count": 6,
      "metadata": {
        "colab": {
          "base_uri": "https://localhost:8080/"
        },
        "id": "52hz53RdrAuc",
        "outputId": "d43bdb4e-226e-436b-fb06-7332700a4852"
      },
      "outputs": [
        {
          "name": "stderr",
          "output_type": "stream",
          "text": [
            "rm: cannot remove '/usr/bin/g++': No such file or directory\n",
            "rm: cannot remove '/usr/bin/x86_64-linux-gnu-gcc': No such file or directory\n",
            "rm: cannot remove '/usr/bin/gcc': No such file or directory\n",
            "rm: cannot remove '/usr/bin/x86_64-linux-gnu-g++': No such file or directory\n"
          ]
        }
      ],
      "source": [
        "%%bash\n",
        "sudo rm -r /usr/bin/g++\n",
        "sudo rm -r /usr/bin/x86_64-linux-gnu-gcc\n",
        "sudo rm -r /usr/bin/gcc \n",
        "sudo rm -r /usr/bin/x86_64-linux-gnu-g++"
      ]
    },
    {
      "cell_type": "code",
      "execution_count": 7,
      "metadata": {
        "id": "GooDOaW2rHe2"
      },
      "outputs": [],
      "source": [
        "%%bash\n",
        "ln -s /usr/bin/g++-4.9 /usr/bin/g++\n",
        "ln -s /usr/bin/gcc-4.9 /usr/bin/gcc"
      ]
    },
    {
      "cell_type": "code",
      "execution_count": 8,
      "metadata": {
        "id": "E4VgWHGtrECC"
      },
      "outputs": [],
      "source": [
        "!ln -s /usr/bin/g++-4.9 /usr/bin/x86_64-linux-gnu-g++\n",
        "!ln -s /usr/bin/gcc-4.9 /usr/bin/x86_64-linux-gnu-gcc"
      ]
    },
    {
      "cell_type": "code",
      "execution_count": 10,
      "metadata": {
        "colab": {
          "base_uri": "https://localhost:8080/"
        },
        "id": "ppkPF6mQpjpF",
        "outputId": "dade7636-e2d9-434a-9934-b7801e936fe7"
      },
      "outputs": [
        {
          "name": "stdout",
          "output_type": "stream",
          "text": [
            "Process is interrupted.\n"
          ]
        }
      ],
      "source": [
        "%%bash\n",
        "sudo apt --purge remove \"cublas*\" \"cuda*\"\n",
        "sudo apt --purge remove \"nvidia*\""
      ]
    },
    {
      "cell_type": "code",
      "execution_count": 11,
      "metadata": {
        "colab": {
          "base_uri": "https://localhost:8080/"
        },
        "id": "2N6akgfvp-AA",
        "outputId": "3b3fdda9-6b39-4aed-a666-33f10620114c"
      },
      "outputs": [
        {
          "name": "stdout",
          "output_type": "stream",
          "text": [
            "Collecting torch==1.3.1\n",
            "  Downloading torch-1.3.1-cp37-cp37m-manylinux1_x86_64.whl (734.6 MB)\n",
            "\u001b[K     |████████████████████████████████| 734.6 MB 17 kB/s \n",
            "\u001b[?25hRequirement already satisfied: numpy in /usr/local/lib/python3.7/dist-packages (from torch==1.3.1) (1.21.5)\n",
            "Installing collected packages: torch\n",
            "  Attempting uninstall: torch\n",
            "    Found existing installation: torch 1.10.0+cu111\n",
            "    Uninstalling torch-1.10.0+cu111:\n",
            "      Successfully uninstalled torch-1.10.0+cu111\n",
            "\u001b[31mERROR: pip's dependency resolver does not currently take into account all the packages that are installed. This behaviour is the source of the following dependency conflicts.\n",
            "torchvision 0.11.1+cu111 requires torch==1.10.0, but you have torch 1.3.1 which is incompatible.\n",
            "torchtext 0.11.0 requires torch==1.10.0, but you have torch 1.3.1 which is incompatible.\n",
            "torchaudio 0.10.0+cu111 requires torch==1.10.0, but you have torch 1.3.1 which is incompatible.\u001b[0m\n",
            "Successfully installed torch-1.3.1\n"
          ]
        }
      ],
      "source": [
        "!pip install torch==1.3.1\n",
        "#pip install torch==1.7.0 torchvision==0.8.1 -f https://download.pytorch.org/whl/cu101/torch_stable.html"
      ]
    },
    {
      "cell_type": "code",
      "execution_count": 12,
      "metadata": {
        "colab": {
          "base_uri": "https://localhost:8080/"
        },
        "id": "0RHS3VyaqH3E",
        "outputId": "f98f7b9f-8c96-40c0-abbe-c8a0f83543ab"
      },
      "outputs": [
        {
          "name": "stdout",
          "output_type": "stream",
          "text": [
            "--2022-03-17 13:31:59--  https://developer.download.nvidia.com/compute/cuda/repos/ubuntu1804/x86_64/cuda-repo-ubuntu1804_10.1.105-1_amd64.deb\n",
            "Resolving developer.download.nvidia.com (developer.download.nvidia.com)... 152.199.20.126\n",
            "Connecting to developer.download.nvidia.com (developer.download.nvidia.com)|152.199.20.126|:443... connected.\n",
            "HTTP request sent, awaiting response... 200 OK\n",
            "Length: 2936 (2.9K) [application/x-deb]\n",
            "Saving to: ‘cuda-repo-ubuntu1804_10.1.105-1_amd64.deb’\n",
            "\n",
            "cuda-repo-ubuntu180 100%[===================>]   2.87K  --.-KB/s    in 0s      \n",
            "\n",
            "2022-03-17 13:32:00 (117 MB/s) - ‘cuda-repo-ubuntu1804_10.1.105-1_amd64.deb’ saved [2936/2936]\n",
            "\n",
            "Selecting previously unselected package cuda-repo-ubuntu1804.\n",
            "(Reading database ... 116776 files and directories currently installed.)\n",
            "Preparing to unpack cuda-repo-ubuntu1804_10.1.105-1_amd64.deb ...\n",
            "Unpacking cuda-repo-ubuntu1804 (10.1.105-1) ...\n",
            "Setting up cuda-repo-ubuntu1804 (10.1.105-1) ...\n",
            "\n",
            "Configuration file '/etc/apt/sources.list.d/cuda.list'\n",
            " ==> File on system created by you or by a script.\n",
            " ==> File also in package provided by package maintainer.\n",
            "   What would you like to do about it ?  Your options are:\n",
            "    Y or I  : install the package maintainer's version\n",
            "    N or O  : keep your currently-installed version\n",
            "      D     : show the differences between the versions\n",
            "      Z     : start a shell to examine the situation\n",
            " The default action is to keep your current version.\n",
            "*** cuda.list (Y/I/N/O/D/Z) [default=N] ? Y\n",
            "Installing new version of config file /etc/apt/sources.list.d/cuda.list ...\n",
            "Executing: /tmp/apt-key-gpghome.KaYV1W0rkL/gpg.1.sh --fetch-keys https://developer.download.nvidia.com/compute/cuda/repos/ubuntu1804/x86_64/7fa2af80.pub\n",
            "gpg: requesting key from 'https://developer.download.nvidia.com/compute/cuda/repos/ubuntu1804/x86_64/7fa2af80.pub'\n",
            "gpg: key F60F4B3D7FA2AF80: \"cudatools <cudatools@nvidia.com>\" not changed\n",
            "gpg: Total number processed: 1\n",
            "gpg:              unchanged: 1\n",
            "Hit:1 http://ppa.launchpad.net/c2d4u.team/c2d4u4.0+/ubuntu bionic InRelease\n",
            "Hit:2 http://archive.ubuntu.com/ubuntu bionic InRelease\n",
            "Hit:3 https://cloud.r-project.org/bin/linux/ubuntu bionic-cran40/ InRelease\n",
            "Hit:4 http://ppa.launchpad.net/cran/libgit2/ubuntu bionic InRelease\n",
            "Hit:5 http://archive.ubuntu.com/ubuntu bionic-updates InRelease\n",
            "Hit:6 http://archive.ubuntu.com/ubuntu bionic-backports InRelease\n",
            "Hit:7 http://ppa.launchpad.net/deadsnakes/ppa/ubuntu bionic InRelease\n",
            "Hit:8 http://ppa.launchpad.net/graphics-drivers/ppa/ubuntu bionic InRelease\n",
            "Ign:9 http://developer.download.nvidia.com/compute/cuda/repos/ubuntu1804/x86_64  InRelease\n",
            "Hit:10 http://developer.download.nvidia.com/compute/cuda/repos/ubuntu1804/x86_64  Release\n",
            "Hit:11 http://security.ubuntu.com/ubuntu bionic-security InRelease\n",
            "Ign:12 https://developer.download.nvidia.com/compute/machine-learning/repos/ubuntu1804/x86_64  InRelease\n",
            "Hit:13 https://developer.download.nvidia.com/compute/machine-learning/repos/ubuntu1804/x86_64  Release\n",
            "Hit:14 http://dk.archive.ubuntu.com/ubuntu xenial InRelease\n",
            "Reading package lists... Done\n",
            "Reading package lists... Done\n",
            "Building dependency tree       \n",
            "Reading state information... Done\n",
            "The following packages were automatically installed and are no longer required:\n",
            "  gfortran-7 libbz2-dev libcufft-11-0 libcufft-11-1 libcufft-dev-11-0\n",
            "  libcufft-dev-11-1 libcurand-11-0 libcurand-11-1 libcurand-dev-11-0\n",
            "  libcurand-dev-11-1 libcusolver-11-0 libcusolver-11-1 libcusolver-dev-11-0\n",
            "  libcusolver-dev-11-1 libcusparse-11-0 libcusparse-dev-11-0 libgfortran-7-dev\n",
            "  libnpp-11-0 libnpp-dev-11-0 libnvjpeg-11-0 libnvjpeg-11-1 libnvjpeg-dev-11-0\n",
            "  libnvjpeg-dev-11-1 libpcre2-16-0 libpcre2-32-0 libpcre2-dev libpcre2-posix0\n",
            "  libreadline-dev nsight-compute-2020.2.1 ocl-icd-opencl-dev opencl-c-headers\n",
            "Use 'sudo apt autoremove' to remove them.\n",
            "The following additional packages will be installed:\n",
            "  build-essential cuda-command-line-tools-10-1 cuda-compiler-10-1\n",
            "  cuda-cudart-10-1 cuda-cudart-dev-10-1 cuda-cufft-10-1 cuda-cufft-dev-10-1\n",
            "  cuda-cuobjdump-10-1 cuda-cupti-10-1 cuda-curand-10-1 cuda-curand-dev-10-1\n",
            "  cuda-cusolver-10-1 cuda-cusolver-dev-10-1 cuda-cusparse-10-1\n",
            "  cuda-cusparse-dev-10-1 cuda-demo-suite-10-1 cuda-documentation-10-1\n",
            "  cuda-driver-dev-10-1 cuda-drivers cuda-drivers-510 cuda-gdb-10-1\n",
            "  cuda-gpu-library-advisor-10-1 cuda-libraries-10-1 cuda-libraries-dev-10-1\n",
            "  cuda-license-10-1 cuda-memcheck-10-1 cuda-misc-headers-10-1 cuda-npp-10-1\n",
            "  cuda-npp-dev-10-1 cuda-nsight-10-1 cuda-nsight-compute-10-1\n",
            "  cuda-nsight-systems-10-1 cuda-nvcc-10-1 cuda-nvdisasm-10-1 cuda-nvgraph-10-1\n",
            "  cuda-nvgraph-dev-10-1 cuda-nvjpeg-10-1 cuda-nvjpeg-dev-10-1\n",
            "  cuda-nvml-dev-10-1 cuda-nvprof-10-1 cuda-nvprune-10-1 cuda-nvrtc-10-1\n",
            "  cuda-nvrtc-dev-10-1 cuda-nvtx-10-1 cuda-nvvp-10-1 cuda-runtime-10-1\n",
            "  cuda-samples-10-1 cuda-sanitizer-api-10-1 cuda-toolkit-10-1 cuda-tools-10-1\n",
            "  cuda-visual-tools-10-1 dkms fakeroot g++ gcc libcublas-dev libcublas10\n",
            "  libfakeroot nvidia-compute-utils-510 nvidia-dkms-510 nvidia-driver-510\n",
            "  nvidia-kernel-common-510 nvidia-kernel-source-510 nvidia-modprobe\n",
            "  nvidia-prime nvidia-settings nvidia-utils-510\n",
            "Suggested packages:\n",
            "  python3-apport menu g++-multilib gcc-multilib autoconf automake libtool flex\n",
            "  bison gdb gcc-doc\n",
            "Recommended packages:\n",
            "  libnvidia-compute-510:i386 libnvidia-decode-510:i386\n",
            "  libnvidia-encode-510:i386 libnvidia-fbc1-510:i386 libnvidia-gl-510:i386\n",
            "The following NEW packages will be installed:\n",
            "  build-essential cuda-10-1 cuda-command-line-tools-10-1 cuda-compiler-10-1\n",
            "  cuda-cudart-10-1 cuda-cudart-dev-10-1 cuda-cufft-10-1 cuda-cufft-dev-10-1\n",
            "  cuda-cuobjdump-10-1 cuda-cupti-10-1 cuda-curand-10-1 cuda-curand-dev-10-1\n",
            "  cuda-cusolver-10-1 cuda-cusolver-dev-10-1 cuda-cusparse-10-1\n",
            "  cuda-cusparse-dev-10-1 cuda-demo-suite-10-1 cuda-documentation-10-1\n",
            "  cuda-driver-dev-10-1 cuda-drivers cuda-drivers-510 cuda-gdb-10-1\n",
            "  cuda-gpu-library-advisor-10-1 cuda-libraries-10-1 cuda-libraries-dev-10-1\n",
            "  cuda-license-10-1 cuda-memcheck-10-1 cuda-misc-headers-10-1 cuda-npp-10-1\n",
            "  cuda-npp-dev-10-1 cuda-nsight-10-1 cuda-nsight-compute-10-1\n",
            "  cuda-nsight-systems-10-1 cuda-nvcc-10-1 cuda-nvdisasm-10-1 cuda-nvgraph-10-1\n",
            "  cuda-nvgraph-dev-10-1 cuda-nvjpeg-10-1 cuda-nvjpeg-dev-10-1\n",
            "  cuda-nvml-dev-10-1 cuda-nvprof-10-1 cuda-nvprune-10-1 cuda-nvrtc-10-1\n",
            "  cuda-nvrtc-dev-10-1 cuda-nvtx-10-1 cuda-nvvp-10-1 cuda-runtime-10-1\n",
            "  cuda-samples-10-1 cuda-sanitizer-api-10-1 cuda-toolkit-10-1 cuda-tools-10-1\n",
            "  cuda-visual-tools-10-1 dkms fakeroot g++ gcc libcublas-dev libcublas10\n",
            "  libfakeroot nvidia-compute-utils-510 nvidia-dkms-510 nvidia-driver-510\n",
            "  nvidia-kernel-common-510 nvidia-kernel-source-510 nvidia-modprobe\n",
            "  nvidia-prime nvidia-settings nvidia-utils-510\n",
            "0 upgraded, 68 newly installed, 0 to remove and 61 not upgraded.\n",
            "Need to get 1,449 MB of archives.\n",
            "After this operation, 3,442 MB of additional disk space will be used.\n",
            "Get:1 http://ppa.launchpad.net/graphics-drivers/ppa/ubuntu bionic/main amd64 nvidia-compute-utils-510 amd64 510.54-0ubuntu0.18.04.1 [105 kB]\n",
            "Get:2 http://archive.ubuntu.com/ubuntu bionic-updates/main amd64 gcc amd64 4:7.4.0-1ubuntu2.3 [5,184 B]\n",
            "Get:3 http://archive.ubuntu.com/ubuntu bionic-updates/main amd64 g++ amd64 4:7.4.0-1ubuntu2.3 [1,568 B]\n",
            "Get:4 http://archive.ubuntu.com/ubuntu bionic/main amd64 build-essential amd64 12.4ubuntu1 [4,758 B]\n",
            "Get:5 http://archive.ubuntu.com/ubuntu bionic-updates/main amd64 dkms all 2.3-3ubuntu9.7 [68.1 kB]\n",
            "Get:6 http://archive.ubuntu.com/ubuntu bionic/main amd64 libfakeroot amd64 1.22-2ubuntu1 [25.9 kB]\n",
            "Get:7 http://archive.ubuntu.com/ubuntu bionic/main amd64 fakeroot amd64 1.22-2ubuntu1 [62.3 kB]\n",
            "Get:8 http://archive.ubuntu.com/ubuntu bionic-updates/main amd64 nvidia-prime all 0.8.16~0.18.04.1 [9,224 B]\n",
            "Get:9 http://ppa.launchpad.net/graphics-drivers/ppa/ubuntu bionic/main amd64 nvidia-kernel-source-510 amd64 510.54-0ubuntu0.18.04.1 [29.1 MB]\n",
            "Get:10 http://developer.download.nvidia.com/compute/cuda/repos/ubuntu1804/x86_64  cuda-license-10-1 10.1.243-1 [16.4 kB]\n",
            "Get:11 http://ppa.launchpad.net/graphics-drivers/ppa/ubuntu bionic/main amd64 nvidia-kernel-common-510 amd64 510.54-0ubuntu0.18.04.1 [20.7 MB]\n",
            "Get:12 http://developer.download.nvidia.com/compute/cuda/repos/ubuntu1804/x86_64  cuda-misc-headers-10-1 10.1.243-1 [692 kB]\n",
            "Get:13 http://ppa.launchpad.net/graphics-drivers/ppa/ubuntu bionic/main amd64 nvidia-dkms-510 amd64 510.54-0ubuntu0.18.04.1 [28.5 kB]\n",
            "Get:14 http://ppa.launchpad.net/graphics-drivers/ppa/ubuntu bionic/main amd64 nvidia-utils-510 amd64 510.54-0ubuntu0.18.04.1 [385 kB]\n",
            "Get:15 http://ppa.launchpad.net/graphics-drivers/ppa/ubuntu bionic/main amd64 nvidia-driver-510 amd64 510.54-0ubuntu0.18.04.1 [454 kB]\n",
            "Get:16 http://developer.download.nvidia.com/compute/cuda/repos/ubuntu1804/x86_64  cuda-nvcc-10-1 10.1.243-1 [15.7 MB]\n",
            "Get:17 http://developer.download.nvidia.com/compute/cuda/repos/ubuntu1804/x86_64  cuda-cuobjdump-10-1 10.1.243-1 [81.6 kB]\n",
            "Get:18 http://developer.download.nvidia.com/compute/cuda/repos/ubuntu1804/x86_64  cuda-nvprune-10-1 10.1.243-1 [36.9 kB]\n",
            "Get:19 http://developer.download.nvidia.com/compute/cuda/repos/ubuntu1804/x86_64  cuda-compiler-10-1 10.1.243-1 [2,534 B]\n",
            "Get:20 http://developer.download.nvidia.com/compute/cuda/repos/ubuntu1804/x86_64  cuda-nvdisasm-10-1 10.1.243-1 [22.1 MB]\n",
            "Get:21 http://developer.download.nvidia.com/compute/cuda/repos/ubuntu1804/x86_64  cuda-gdb-10-1 10.1.243-1 [2,773 kB]\n",
            "Get:22 http://developer.download.nvidia.com/compute/cuda/repos/ubuntu1804/x86_64  cuda-nvprof-10-1 10.1.243-1 [4,016 kB]\n",
            "Get:23 http://developer.download.nvidia.com/compute/cuda/repos/ubuntu1804/x86_64  cuda-sanitizer-api-10-1 10.1.243-1 [2,153 kB]\n",
            "Get:24 http://developer.download.nvidia.com/compute/cuda/repos/ubuntu1804/x86_64  cuda-memcheck-10-1 10.1.243-1 [139 kB]\n",
            "Get:25 http://developer.download.nvidia.com/compute/cuda/repos/ubuntu1804/x86_64  cuda-cudart-10-1 10.1.243-1 [109 kB]\n",
            "Get:26 http://developer.download.nvidia.com/compute/cuda/repos/ubuntu1804/x86_64  cuda-driver-dev-10-1 10.1.243-1 [11.6 kB]\n",
            "Get:27 http://developer.download.nvidia.com/compute/cuda/repos/ubuntu1804/x86_64  cuda-cudart-dev-10-1 10.1.243-1 [447 kB]\n",
            "Get:28 http://developer.download.nvidia.com/compute/cuda/repos/ubuntu1804/x86_64  cuda-cupti-10-1 10.1.243-1 [11.2 MB]\n",
            "Get:29 http://developer.download.nvidia.com/compute/cuda/repos/ubuntu1804/x86_64  cuda-gpu-library-advisor-10-1 10.1.243-1 [1,003 kB]\n",
            "Get:30 http://developer.download.nvidia.com/compute/cuda/repos/ubuntu1804/x86_64  cuda-nvtx-10-1 10.1.243-1 [38.9 kB]\n",
            "Get:31 http://developer.download.nvidia.com/compute/cuda/repos/ubuntu1804/x86_64  cuda-command-line-tools-10-1 10.1.243-1 [27.3 kB]\n",
            "Get:32 http://developer.download.nvidia.com/compute/cuda/repos/ubuntu1804/x86_64  cuda-nsight-10-1 10.1.243-1 [2,584 B]\n",
            "Get:33 http://developer.download.nvidia.com/compute/cuda/repos/ubuntu1804/x86_64  cuda-nvvp-10-1 10.1.243-1 [2,530 B]\n",
            "Get:34 http://developer.download.nvidia.com/compute/cuda/repos/ubuntu1804/x86_64  cuda-nvrtc-10-1 10.1.243-1 [6,288 kB]\n",
            "Get:35 http://developer.download.nvidia.com/compute/cuda/repos/ubuntu1804/x86_64  cuda-nvrtc-dev-10-1 10.1.243-1 [8,812 B]\n",
            "Get:36 http://developer.download.nvidia.com/compute/cuda/repos/ubuntu1804/x86_64  cuda-cusolver-10-1 10.1.243-1 [71.9 MB]\n",
            "Get:37 http://developer.download.nvidia.com/compute/cuda/repos/ubuntu1804/x86_64  cuda-cusolver-dev-10-1 10.1.243-1 [14.0 MB]\n",
            "Get:38 http://developer.download.nvidia.com/compute/cuda/repos/ubuntu1804/x86_64  libcublas10 10.2.3.254-1 [43.1 MB]\n",
            "Get:39 http://developer.download.nvidia.com/compute/cuda/repos/ubuntu1804/x86_64  libcublas-dev 10.2.3.254-1 [42.4 MB]\n",
            "Get:40 http://developer.download.nvidia.com/compute/cuda/repos/ubuntu1804/x86_64  cuda-cufft-10-1 10.1.243-1 [84.2 MB]\n",
            "Get:41 http://developer.download.nvidia.com/compute/cuda/repos/ubuntu1804/x86_64  cuda-cufft-dev-10-1 10.1.243-1 [158 MB]\n",
            "Get:42 http://developer.download.nvidia.com/compute/cuda/repos/ubuntu1804/x86_64  cuda-curand-10-1 10.1.243-1 [38.9 MB]\n",
            "Get:43 http://developer.download.nvidia.com/compute/cuda/repos/ubuntu1804/x86_64  cuda-curand-dev-10-1 10.1.243-1 [58.1 MB]\n",
            "Get:44 http://developer.download.nvidia.com/compute/cuda/repos/ubuntu1804/x86_64  cuda-cusparse-10-1 10.1.243-1 [55.2 MB]\n",
            "Get:45 http://developer.download.nvidia.com/compute/cuda/repos/ubuntu1804/x86_64  cuda-cusparse-dev-10-1 10.1.243-1 [55.7 MB]\n",
            "Get:46 http://developer.download.nvidia.com/compute/cuda/repos/ubuntu1804/x86_64  cuda-npp-10-1 10.1.243-1 [54.9 MB]\n",
            "Get:47 http://developer.download.nvidia.com/compute/cuda/repos/ubuntu1804/x86_64  cuda-npp-dev-10-1 10.1.243-1 [55.7 MB]\n",
            "Get:48 http://developer.download.nvidia.com/compute/cuda/repos/ubuntu1804/x86_64  cuda-nvml-dev-10-1 10.1.243-1 [53.1 kB]\n",
            "Get:49 http://developer.download.nvidia.com/compute/cuda/repos/ubuntu1804/x86_64  cuda-nvjpeg-10-1 10.1.243-1 [1,213 kB]\n",
            "Get:50 http://developer.download.nvidia.com/compute/cuda/repos/ubuntu1804/x86_64  cuda-nvjpeg-dev-10-1 10.1.243-1 [1,153 kB]\n",
            "Get:51 http://developer.download.nvidia.com/compute/cuda/repos/ubuntu1804/x86_64  cuda-nsight-compute-10-1 10.1.243-1 [3,698 B]\n",
            "Get:52 http://developer.download.nvidia.com/compute/cuda/repos/ubuntu1804/x86_64  cuda-nsight-systems-10-1 10.1.243-1 [3,130 B]\n",
            "Get:53 http://developer.download.nvidia.com/compute/cuda/repos/ubuntu1804/x86_64  cuda-nvgraph-10-1 10.1.243-1 [41.7 MB]\n",
            "Get:54 http://developer.download.nvidia.com/compute/cuda/repos/ubuntu1804/x86_64  cuda-nvgraph-dev-10-1 10.1.243-1 [34.2 MB]\n",
            "Get:55 http://developer.download.nvidia.com/compute/cuda/repos/ubuntu1804/x86_64  cuda-visual-tools-10-1 10.1.243-1 [398 MB]\n",
            "Get:56 http://developer.download.nvidia.com/compute/cuda/repos/ubuntu1804/x86_64  cuda-tools-10-1 10.1.243-1 [2,496 B]\n",
            "Get:57 http://developer.download.nvidia.com/compute/cuda/repos/ubuntu1804/x86_64  cuda-samples-10-1 10.1.243-1 [64.5 MB]\n",
            "Get:58 http://developer.download.nvidia.com/compute/cuda/repos/ubuntu1804/x86_64  cuda-documentation-10-1 10.1.243-1 [53.5 MB]\n",
            "Get:59 http://developer.download.nvidia.com/compute/cuda/repos/ubuntu1804/x86_64  cuda-libraries-dev-10-1 10.1.243-1 [2,612 B]\n",
            "Get:60 http://developer.download.nvidia.com/compute/cuda/repos/ubuntu1804/x86_64  cuda-toolkit-10-1 10.1.243-1 [2,828 B]\n",
            "Get:61 http://developer.download.nvidia.com/compute/cuda/repos/ubuntu1804/x86_64  nvidia-modprobe 510.47.03-0ubuntu1 [19.8 kB]\n",
            "Get:62 http://developer.download.nvidia.com/compute/cuda/repos/ubuntu1804/x86_64  nvidia-settings 510.47.03-0ubuntu1 [894 kB]\n",
            "Get:63 http://developer.download.nvidia.com/compute/cuda/repos/ubuntu1804/x86_64  cuda-drivers-510 510.47.03-1 [2,616 B]\n",
            "Get:64 http://developer.download.nvidia.com/compute/cuda/repos/ubuntu1804/x86_64  cuda-drivers 510.47.03-1 [2,496 B]\n",
            "Get:65 http://developer.download.nvidia.com/compute/cuda/repos/ubuntu1804/x86_64  cuda-libraries-10-1 10.1.243-1 [2,588 B]\n",
            "Get:66 http://developer.download.nvidia.com/compute/cuda/repos/ubuntu1804/x86_64  cuda-runtime-10-1 10.1.243-1 [2,532 B]\n",
            "Get:67 http://developer.download.nvidia.com/compute/cuda/repos/ubuntu1804/x86_64  cuda-demo-suite-10-1 10.1.243-1 [3,851 kB]\n",
            "Get:68 http://developer.download.nvidia.com/compute/cuda/repos/ubuntu1804/x86_64  cuda-10-1 10.1.243-1 [2,560 B]\n",
            "Fetched 1,449 MB in 1min 16s (19.0 MB/s)\n",
            "debconf: unable to initialize frontend: Dialog\n",
            "debconf: (No usable dialog-like program is installed, so the dialog based frontend cannot be used. at /usr/share/perl5/Debconf/FrontEnd/Dialog.pm line 76, <> line 68.)\n",
            "debconf: falling back to frontend: Readline\n",
            "debconf: unable to initialize frontend: Readline\n",
            "debconf: (This frontend requires a controlling tty.)\n",
            "debconf: falling back to frontend: Teletype\n",
            "dpkg-preconfigure: unable to re-open stdin: \n",
            "Selecting previously unselected package gcc.\n",
            "(Reading database ... 116779 files and directories currently installed.)\n",
            "Preparing to unpack .../00-gcc_4%3a7.4.0-1ubuntu2.3_amd64.deb ...\n",
            "Unpacking gcc (4:7.4.0-1ubuntu2.3) ...\n",
            "Selecting previously unselected package g++.\n",
            "Preparing to unpack .../01-g++_4%3a7.4.0-1ubuntu2.3_amd64.deb ...\n",
            "Unpacking g++ (4:7.4.0-1ubuntu2.3) ...\n",
            "Selecting previously unselected package build-essential.\n",
            "Preparing to unpack .../02-build-essential_12.4ubuntu1_amd64.deb ...\n",
            "Unpacking build-essential (12.4ubuntu1) ...\n",
            "Selecting previously unselected package cuda-license-10-1.\n",
            "Preparing to unpack .../03-cuda-license-10-1_10.1.243-1_amd64.deb ...\n",
            "Unpacking cuda-license-10-1 (10.1.243-1) ...\n",
            "Selecting previously unselected package cuda-misc-headers-10-1.\n",
            "Preparing to unpack .../04-cuda-misc-headers-10-1_10.1.243-1_amd64.deb ...\n",
            "Unpacking cuda-misc-headers-10-1 (10.1.243-1) ...\n",
            "Selecting previously unselected package cuda-nvcc-10-1.\n",
            "Preparing to unpack .../05-cuda-nvcc-10-1_10.1.243-1_amd64.deb ...\n",
            "Unpacking cuda-nvcc-10-1 (10.1.243-1) ...\n",
            "Selecting previously unselected package cuda-cuobjdump-10-1.\n",
            "Preparing to unpack .../06-cuda-cuobjdump-10-1_10.1.243-1_amd64.deb ...\n",
            "Unpacking cuda-cuobjdump-10-1 (10.1.243-1) ...\n",
            "Selecting previously unselected package cuda-nvprune-10-1.\n",
            "Preparing to unpack .../07-cuda-nvprune-10-1_10.1.243-1_amd64.deb ...\n",
            "Unpacking cuda-nvprune-10-1 (10.1.243-1) ...\n",
            "Selecting previously unselected package cuda-compiler-10-1.\n",
            "Preparing to unpack .../08-cuda-compiler-10-1_10.1.243-1_amd64.deb ...\n",
            "Unpacking cuda-compiler-10-1 (10.1.243-1) ...\n",
            "Selecting previously unselected package cuda-nvdisasm-10-1.\n",
            "Preparing to unpack .../09-cuda-nvdisasm-10-1_10.1.243-1_amd64.deb ...\n",
            "Unpacking cuda-nvdisasm-10-1 (10.1.243-1) ...\n",
            "Selecting previously unselected package cuda-gdb-10-1.\n",
            "Preparing to unpack .../10-cuda-gdb-10-1_10.1.243-1_amd64.deb ...\n",
            "Unpacking cuda-gdb-10-1 (10.1.243-1) ...\n",
            "Selecting previously unselected package cuda-nvprof-10-1.\n",
            "Preparing to unpack .../11-cuda-nvprof-10-1_10.1.243-1_amd64.deb ...\n",
            "Unpacking cuda-nvprof-10-1 (10.1.243-1) ...\n",
            "Selecting previously unselected package cuda-sanitizer-api-10-1.\n",
            "Preparing to unpack .../12-cuda-sanitizer-api-10-1_10.1.243-1_amd64.deb ...\n",
            "Unpacking cuda-sanitizer-api-10-1 (10.1.243-1) ...\n",
            "Selecting previously unselected package cuda-memcheck-10-1.\n",
            "Preparing to unpack .../13-cuda-memcheck-10-1_10.1.243-1_amd64.deb ...\n",
            "Unpacking cuda-memcheck-10-1 (10.1.243-1) ...\n",
            "Selecting previously unselected package cuda-cudart-10-1.\n",
            "Preparing to unpack .../14-cuda-cudart-10-1_10.1.243-1_amd64.deb ...\n",
            "Unpacking cuda-cudart-10-1 (10.1.243-1) ...\n",
            "Selecting previously unselected package cuda-driver-dev-10-1.\n",
            "Preparing to unpack .../15-cuda-driver-dev-10-1_10.1.243-1_amd64.deb ...\n",
            "Unpacking cuda-driver-dev-10-1 (10.1.243-1) ...\n",
            "Selecting previously unselected package cuda-cudart-dev-10-1.\n",
            "Preparing to unpack .../16-cuda-cudart-dev-10-1_10.1.243-1_amd64.deb ...\n",
            "Unpacking cuda-cudart-dev-10-1 (10.1.243-1) ...\n",
            "Selecting previously unselected package cuda-cupti-10-1.\n",
            "Preparing to unpack .../17-cuda-cupti-10-1_10.1.243-1_amd64.deb ...\n",
            "Unpacking cuda-cupti-10-1 (10.1.243-1) ...\n",
            "Selecting previously unselected package cuda-gpu-library-advisor-10-1.\n",
            "Preparing to unpack .../18-cuda-gpu-library-advisor-10-1_10.1.243-1_amd64.deb ...\n",
            "Unpacking cuda-gpu-library-advisor-10-1 (10.1.243-1) ...\n",
            "Selecting previously unselected package cuda-nvtx-10-1.\n",
            "Preparing to unpack .../19-cuda-nvtx-10-1_10.1.243-1_amd64.deb ...\n",
            "Unpacking cuda-nvtx-10-1 (10.1.243-1) ...\n",
            "Selecting previously unselected package cuda-command-line-tools-10-1.\n",
            "Preparing to unpack .../20-cuda-command-line-tools-10-1_10.1.243-1_amd64.deb ...\n",
            "Unpacking cuda-command-line-tools-10-1 (10.1.243-1) ...\n",
            "Selecting previously unselected package cuda-nsight-10-1.\n",
            "Preparing to unpack .../21-cuda-nsight-10-1_10.1.243-1_amd64.deb ...\n",
            "Unpacking cuda-nsight-10-1 (10.1.243-1) ...\n",
            "Selecting previously unselected package cuda-nvvp-10-1.\n",
            "Preparing to unpack .../22-cuda-nvvp-10-1_10.1.243-1_amd64.deb ...\n",
            "Unpacking cuda-nvvp-10-1 (10.1.243-1) ...\n",
            "Selecting previously unselected package cuda-nvrtc-10-1.\n",
            "Preparing to unpack .../23-cuda-nvrtc-10-1_10.1.243-1_amd64.deb ...\n",
            "Unpacking cuda-nvrtc-10-1 (10.1.243-1) ...\n",
            "Selecting previously unselected package cuda-nvrtc-dev-10-1.\n",
            "Preparing to unpack .../24-cuda-nvrtc-dev-10-1_10.1.243-1_amd64.deb ...\n",
            "Unpacking cuda-nvrtc-dev-10-1 (10.1.243-1) ...\n",
            "Selecting previously unselected package cuda-cusolver-10-1.\n",
            "Preparing to unpack .../25-cuda-cusolver-10-1_10.1.243-1_amd64.deb ...\n",
            "Unpacking cuda-cusolver-10-1 (10.1.243-1) ...\n",
            "Selecting previously unselected package cuda-cusolver-dev-10-1.\n",
            "Preparing to unpack .../26-cuda-cusolver-dev-10-1_10.1.243-1_amd64.deb ...\n",
            "Unpacking cuda-cusolver-dev-10-1 (10.1.243-1) ...\n",
            "Selecting previously unselected package libcublas10.\n",
            "Preparing to unpack .../27-libcublas10_10.2.3.254-1_amd64.deb ...\n",
            "Unpacking libcublas10 (10.2.3.254-1) ...\n",
            "Selecting previously unselected package libcublas-dev.\n",
            "Preparing to unpack .../28-libcublas-dev_10.2.3.254-1_amd64.deb ...\n",
            "Unpacking libcublas-dev (10.2.3.254-1) ...\n",
            "Selecting previously unselected package cuda-cufft-10-1.\n",
            "Preparing to unpack .../29-cuda-cufft-10-1_10.1.243-1_amd64.deb ...\n",
            "Unpacking cuda-cufft-10-1 (10.1.243-1) ...\n",
            "Selecting previously unselected package cuda-cufft-dev-10-1.\n",
            "Preparing to unpack .../30-cuda-cufft-dev-10-1_10.1.243-1_amd64.deb ...\n",
            "Unpacking cuda-cufft-dev-10-1 (10.1.243-1) ...\n",
            "Selecting previously unselected package cuda-curand-10-1.\n",
            "Preparing to unpack .../31-cuda-curand-10-1_10.1.243-1_amd64.deb ...\n",
            "Unpacking cuda-curand-10-1 (10.1.243-1) ...\n",
            "Selecting previously unselected package cuda-curand-dev-10-1.\n",
            "Preparing to unpack .../32-cuda-curand-dev-10-1_10.1.243-1_amd64.deb ...\n",
            "Unpacking cuda-curand-dev-10-1 (10.1.243-1) ...\n",
            "Selecting previously unselected package cuda-cusparse-10-1.\n",
            "Preparing to unpack .../33-cuda-cusparse-10-1_10.1.243-1_amd64.deb ...\n",
            "Unpacking cuda-cusparse-10-1 (10.1.243-1) ...\n",
            "Selecting previously unselected package cuda-cusparse-dev-10-1.\n",
            "Preparing to unpack .../34-cuda-cusparse-dev-10-1_10.1.243-1_amd64.deb ...\n",
            "Unpacking cuda-cusparse-dev-10-1 (10.1.243-1) ...\n",
            "Selecting previously unselected package cuda-npp-10-1.\n",
            "Preparing to unpack .../35-cuda-npp-10-1_10.1.243-1_amd64.deb ...\n",
            "Unpacking cuda-npp-10-1 (10.1.243-1) ...\n",
            "Selecting previously unselected package cuda-npp-dev-10-1.\n",
            "Preparing to unpack .../36-cuda-npp-dev-10-1_10.1.243-1_amd64.deb ...\n",
            "Unpacking cuda-npp-dev-10-1 (10.1.243-1) ...\n",
            "Selecting previously unselected package cuda-nvml-dev-10-1.\n",
            "Preparing to unpack .../37-cuda-nvml-dev-10-1_10.1.243-1_amd64.deb ...\n",
            "Unpacking cuda-nvml-dev-10-1 (10.1.243-1) ...\n",
            "Selecting previously unselected package cuda-nvjpeg-10-1.\n",
            "Preparing to unpack .../38-cuda-nvjpeg-10-1_10.1.243-1_amd64.deb ...\n",
            "Unpacking cuda-nvjpeg-10-1 (10.1.243-1) ...\n",
            "Selecting previously unselected package cuda-nvjpeg-dev-10-1.\n",
            "Preparing to unpack .../39-cuda-nvjpeg-dev-10-1_10.1.243-1_amd64.deb ...\n",
            "Unpacking cuda-nvjpeg-dev-10-1 (10.1.243-1) ...\n",
            "Selecting previously unselected package cuda-nsight-compute-10-1.\n",
            "Preparing to unpack .../40-cuda-nsight-compute-10-1_10.1.243-1_amd64.deb ...\n",
            "Unpacking cuda-nsight-compute-10-1 (10.1.243-1) ...\n",
            "Selecting previously unselected package cuda-nsight-systems-10-1.\n",
            "Preparing to unpack .../41-cuda-nsight-systems-10-1_10.1.243-1_amd64.deb ...\n",
            "Unpacking cuda-nsight-systems-10-1 (10.1.243-1) ...\n",
            "Selecting previously unselected package cuda-nvgraph-10-1.\n",
            "Preparing to unpack .../42-cuda-nvgraph-10-1_10.1.243-1_amd64.deb ...\n",
            "Unpacking cuda-nvgraph-10-1 (10.1.243-1) ...\n",
            "Selecting previously unselected package cuda-nvgraph-dev-10-1.\n",
            "Preparing to unpack .../43-cuda-nvgraph-dev-10-1_10.1.243-1_amd64.deb ...\n",
            "Unpacking cuda-nvgraph-dev-10-1 (10.1.243-1) ...\n",
            "Selecting previously unselected package cuda-visual-tools-10-1.\n",
            "Preparing to unpack .../44-cuda-visual-tools-10-1_10.1.243-1_amd64.deb ...\n",
            "Unpacking cuda-visual-tools-10-1 (10.1.243-1) ...\n",
            "Selecting previously unselected package cuda-tools-10-1.\n",
            "Preparing to unpack .../45-cuda-tools-10-1_10.1.243-1_amd64.deb ...\n",
            "Unpacking cuda-tools-10-1 (10.1.243-1) ...\n",
            "Selecting previously unselected package cuda-samples-10-1.\n",
            "Preparing to unpack .../46-cuda-samples-10-1_10.1.243-1_amd64.deb ...\n",
            "Unpacking cuda-samples-10-1 (10.1.243-1) ...\n",
            "Selecting previously unselected package cuda-documentation-10-1.\n",
            "Preparing to unpack .../47-cuda-documentation-10-1_10.1.243-1_amd64.deb ...\n",
            "Unpacking cuda-documentation-10-1 (10.1.243-1) ...\n",
            "Selecting previously unselected package cuda-libraries-dev-10-1.\n",
            "Preparing to unpack .../48-cuda-libraries-dev-10-1_10.1.243-1_amd64.deb ...\n",
            "Unpacking cuda-libraries-dev-10-1 (10.1.243-1) ...\n",
            "Selecting previously unselected package cuda-toolkit-10-1.\n",
            "Preparing to unpack .../49-cuda-toolkit-10-1_10.1.243-1_amd64.deb ...\n",
            "Unpacking cuda-toolkit-10-1 (10.1.243-1) ...\n",
            "Selecting previously unselected package nvidia-compute-utils-510.\n",
            "Preparing to unpack .../50-nvidia-compute-utils-510_510.54-0ubuntu0.18.04.1_amd64.deb ...\n",
            "Unpacking nvidia-compute-utils-510 (510.54-0ubuntu0.18.04.1) ...\n",
            "Selecting previously unselected package dkms.\n",
            "Preparing to unpack .../51-dkms_2.3-3ubuntu9.7_all.deb ...\n",
            "Unpacking dkms (2.3-3ubuntu9.7) ...\n",
            "Selecting previously unselected package nvidia-kernel-source-510.\n",
            "Preparing to unpack .../52-nvidia-kernel-source-510_510.54-0ubuntu0.18.04.1_amd64.deb ...\n",
            "Unpacking nvidia-kernel-source-510 (510.54-0ubuntu0.18.04.1) ...\n",
            "Selecting previously unselected package nvidia-kernel-common-510.\n",
            "Preparing to unpack .../53-nvidia-kernel-common-510_510.54-0ubuntu0.18.04.1_amd64.deb ...\n",
            "Unpacking nvidia-kernel-common-510 (510.54-0ubuntu0.18.04.1) ...\n",
            "Selecting previously unselected package nvidia-dkms-510.\n",
            "Preparing to unpack .../54-nvidia-dkms-510_510.54-0ubuntu0.18.04.1_amd64.deb ...\n",
            "Unpacking nvidia-dkms-510 (510.54-0ubuntu0.18.04.1) ...\n",
            "Selecting previously unselected package nvidia-utils-510.\n",
            "Preparing to unpack .../55-nvidia-utils-510_510.54-0ubuntu0.18.04.1_amd64.deb ...\n",
            "Unpacking nvidia-utils-510 (510.54-0ubuntu0.18.04.1) ...\n",
            "Selecting previously unselected package nvidia-driver-510.\n",
            "Preparing to unpack .../56-nvidia-driver-510_510.54-0ubuntu0.18.04.1_amd64.deb ...\n",
            "Unpacking nvidia-driver-510 (510.54-0ubuntu0.18.04.1) ...\n",
            "Selecting previously unselected package nvidia-modprobe.\n",
            "Preparing to unpack .../57-nvidia-modprobe_510.47.03-0ubuntu1_amd64.deb ...\n",
            "Unpacking nvidia-modprobe (510.47.03-0ubuntu1) ...\n",
            "Selecting previously unselected package nvidia-settings.\n",
            "Preparing to unpack .../58-nvidia-settings_510.47.03-0ubuntu1_amd64.deb ...\n",
            "Unpacking nvidia-settings (510.47.03-0ubuntu1) ...\n",
            "Selecting previously unselected package cuda-drivers-510.\n",
            "Preparing to unpack .../59-cuda-drivers-510_510.47.03-1_amd64.deb ...\n",
            "Unpacking cuda-drivers-510 (510.47.03-1) ...\n",
            "Selecting previously unselected package cuda-drivers.\n",
            "Preparing to unpack .../60-cuda-drivers_510.47.03-1_amd64.deb ...\n",
            "Unpacking cuda-drivers (510.47.03-1) ...\n",
            "Selecting previously unselected package cuda-libraries-10-1.\n",
            "Preparing to unpack .../61-cuda-libraries-10-1_10.1.243-1_amd64.deb ...\n",
            "Unpacking cuda-libraries-10-1 (10.1.243-1) ...\n",
            "Selecting previously unselected package cuda-runtime-10-1.\n",
            "Preparing to unpack .../62-cuda-runtime-10-1_10.1.243-1_amd64.deb ...\n",
            "Unpacking cuda-runtime-10-1 (10.1.243-1) ...\n",
            "Selecting previously unselected package cuda-demo-suite-10-1.\n",
            "Preparing to unpack .../63-cuda-demo-suite-10-1_10.1.243-1_amd64.deb ...\n",
            "Unpacking cuda-demo-suite-10-1 (10.1.243-1) ...\n",
            "Selecting previously unselected package cuda-10-1.\n",
            "Preparing to unpack .../64-cuda-10-1_10.1.243-1_amd64.deb ...\n",
            "Unpacking cuda-10-1 (10.1.243-1) ...\n",
            "Selecting previously unselected package libfakeroot:amd64.\n",
            "Preparing to unpack .../65-libfakeroot_1.22-2ubuntu1_amd64.deb ...\n",
            "Unpacking libfakeroot:amd64 (1.22-2ubuntu1) ...\n",
            "Selecting previously unselected package fakeroot.\n",
            "Preparing to unpack .../66-fakeroot_1.22-2ubuntu1_amd64.deb ...\n",
            "Unpacking fakeroot (1.22-2ubuntu1) ...\n",
            "Selecting previously unselected package nvidia-prime.\n",
            "Preparing to unpack .../67-nvidia-prime_0.8.16~0.18.04.1_all.deb ...\n",
            "Unpacking nvidia-prime (0.8.16~0.18.04.1) ...\n",
            "Setting up nvidia-compute-utils-510 (510.54-0ubuntu0.18.04.1) ...\n",
            "Warning: The home dir /nonexistent you specified can't be accessed: No such file or directory\n",
            "Adding system user `nvidia-persistenced' (UID 104) ...\n",
            "Adding new group `nvidia-persistenced' (GID 108) ...\n",
            "Adding new user `nvidia-persistenced' (UID 104) with group `nvidia-persistenced' ...\n",
            "Not creating home directory `/nonexistent'.\n",
            "Setting up nvidia-prime (0.8.16~0.18.04.1) ...\n",
            "Setting up nvidia-kernel-source-510 (510.54-0ubuntu0.18.04.1) ...\n",
            "Setting up cuda-license-10-1 (10.1.243-1) ...\n",
            "*** LICENSE AGREEMENT ***\n",
            "By using this software you agree to fully comply with the terms and \n",
            "conditions of the EULA (End User License Agreement). The EULA is located\n",
            "at /usr/local/cuda-10.1/doc/EULA.txt. The EULA can also be found at\n",
            "http://docs.nvidia.com/cuda/eula/index.html. If you do not agree to the\n",
            "terms and conditions of the EULA, do not use the software.\n",
            "\n",
            "Setting up gcc (4:7.4.0-1ubuntu2.3) ...\n",
            "Setting up cuda-cusparse-10-1 (10.1.243-1) ...\n",
            "Setting up cuda-nvjpeg-10-1 (10.1.243-1) ...\n",
            "Setting up cuda-nsight-10-1 (10.1.243-1) ...\n",
            "Setting up cuda-nvdisasm-10-1 (10.1.243-1) ...\n",
            "Setting up cuda-nvml-dev-10-1 (10.1.243-1) ...\n",
            "Setting up nvidia-settings (510.47.03-0ubuntu1) ...\n",
            "Setting up cuda-sanitizer-api-10-1 (10.1.243-1) ...\n",
            "Setting up cuda-nvjpeg-dev-10-1 (10.1.243-1) ...\n",
            "Setting up cuda-cufft-10-1 (10.1.243-1) ...\n",
            "Setting up cuda-nvprof-10-1 (10.1.243-1) ...\n",
            "Setting up cuda-nvrtc-10-1 (10.1.243-1) ...\n",
            "Setting up dkms (2.3-3ubuntu9.7) ...\n",
            "Setting up libcublas10 (10.2.3.254-1) ...\n",
            "Setting up libcublas-dev (10.2.3.254-1) ...\n",
            "Setting up cuda-npp-10-1 (10.1.243-1) ...\n",
            "Setting up cuda-cufft-dev-10-1 (10.1.243-1) ...\n",
            "Setting up libfakeroot:amd64 (1.22-2ubuntu1) ...\n",
            "Setting up nvidia-modprobe (510.47.03-0ubuntu1) ...\n",
            "Setting up nvidia-utils-510 (510.54-0ubuntu0.18.04.1) ...\n",
            "Setting up nvidia-kernel-common-510 (510.54-0ubuntu0.18.04.1) ...\n",
            "Created symlink /etc/systemd/system/systemd-hibernate.service.requires/nvidia-hibernate.service → /lib/systemd/system/nvidia-hibernate.service.\n",
            "Created symlink /etc/systemd/system/systemd-suspend.service.requires/nvidia-resume.service → /lib/systemd/system/nvidia-resume.service.\n",
            "Created symlink /etc/systemd/system/systemd-hibernate.service.requires/nvidia-resume.service → /lib/systemd/system/nvidia-resume.service.\n",
            "Created symlink /etc/systemd/system/systemd-suspend.service.requires/nvidia-suspend.service → /lib/systemd/system/nvidia-suspend.service.\n",
            "Setting up g++ (4:7.4.0-1ubuntu2.3) ...\n",
            "update-alternatives: using /usr/bin/g++ to provide /usr/bin/c++ (c++) in auto mode\n",
            "update-alternatives: warning: skip creation of /usr/share/man/man1/c++.1.gz because associated file /usr/share/man/man1/g++.1.gz (of link group c++) doesn't exist\n",
            "Setting up cuda-nvvp-10-1 (10.1.243-1) ...\n",
            "Setting up cuda-driver-dev-10-1 (10.1.243-1) ...\n",
            "Setting up cuda-cuobjdump-10-1 (10.1.243-1) ...\n",
            "Setting up cuda-nsight-systems-10-1 (10.1.243-1) ...\n",
            "Setting up cuda-gdb-10-1 (10.1.243-1) ...\n",
            "Setting up cuda-nsight-compute-10-1 (10.1.243-1) ...\n",
            "Setting up cuda-cudart-10-1 (10.1.243-1) ...\n",
            "Setting up cuda-npp-dev-10-1 (10.1.243-1) ...\n",
            "Setting up cuda-cusolver-10-1 (10.1.243-1) ...\n",
            "Setting up cuda-misc-headers-10-1 (10.1.243-1) ...\n",
            "Setting up cuda-nvtx-10-1 (10.1.243-1) ...\n",
            "Setting up cuda-curand-10-1 (10.1.243-1) ...\n",
            "Setting up build-essential (12.4ubuntu1) ...\n",
            "Setting up cuda-cusparse-dev-10-1 (10.1.243-1) ...\n",
            "Setting up cuda-gpu-library-advisor-10-1 (10.1.243-1) ...\n",
            "Setting up cuda-nvgraph-10-1 (10.1.243-1) ...\n",
            "Setting up cuda-nvprune-10-1 (10.1.243-1) ...\n",
            "Setting up nvidia-dkms-510 (510.54-0ubuntu0.18.04.1) ...\n",
            "debconf: unable to initialize frontend: Dialog\n",
            "debconf: (No usable dialog-like program is installed, so the dialog based frontend cannot be used. at /usr/share/perl5/Debconf/FrontEnd/Dialog.pm line 76.)\n",
            "debconf: falling back to frontend: Readline\n",
            "Loading new nvidia-510.54 DKMS files...\n",
            "It is likely that 5.4.144+ belongs to a chroot's host\n",
            "Building for 4.15.0-171-generic\n",
            "Building for architecture x86_64\n",
            "Building initial module for 4.15.0-171-generic\n",
            "Done.\n",
            "\n",
            "nvidia:\n",
            "Running module version sanity check.\n",
            " - Original module\n",
            "   - No original module exists within this kernel\n",
            " - Installation\n",
            "   - Installing to /lib/modules/4.15.0-171-generic/updates/dkms/\n",
            "\n",
            "nvidia-modeset.ko:\n",
            "Running module version sanity check.\n",
            " - Original module\n",
            "   - No original module exists within this kernel\n",
            " - Installation\n",
            "   - Installing to /lib/modules/4.15.0-171-generic/updates/dkms/\n",
            "\n",
            "nvidia-drm.ko:\n",
            "Running module version sanity check.\n",
            " - Original module\n",
            "   - No original module exists within this kernel\n",
            " - Installation\n",
            "   - Installing to /lib/modules/4.15.0-171-generic/updates/dkms/\n",
            "\n",
            "nvidia-uvm.ko:\n",
            "Running module version sanity check.\n",
            " - Original module\n",
            "   - No original module exists within this kernel\n",
            " - Installation\n",
            "   - Installing to /lib/modules/4.15.0-171-generic/updates/dkms/\n",
            "\n",
            "nvidia-peermem.ko:\n",
            "Running module version sanity check.\n",
            " - Original module\n",
            "   - No original module exists within this kernel\n",
            " - Installation\n",
            "   - Installing to /lib/modules/4.15.0-171-generic/updates/dkms/\n",
            "\n",
            "depmod...\n",
            "\n",
            "DKMS: install completed.\n",
            "Setting up cuda-memcheck-10-1 (10.1.243-1) ...\n",
            "Setting up cuda-cudart-dev-10-1 (10.1.243-1) ...\n",
            "Setting up cuda-nvrtc-dev-10-1 (10.1.243-1) ...\n",
            "Setting up fakeroot (1.22-2ubuntu1) ...\n",
            "update-alternatives: using /usr/bin/fakeroot-sysv to provide /usr/bin/fakeroot (fakeroot) in auto mode\n",
            "Setting up cuda-curand-dev-10-1 (10.1.243-1) ...\n",
            "Setting up cuda-cusolver-dev-10-1 (10.1.243-1) ...\n",
            "Setting up cuda-nvgraph-dev-10-1 (10.1.243-1) ...\n",
            "Setting up nvidia-driver-510 (510.54-0ubuntu0.18.04.1) ...\n",
            "Setting up cuda-libraries-10-1 (10.1.243-1) ...\n",
            "Setting up cuda-nvcc-10-1 (10.1.243-1) ...\n",
            "Setting up cuda-compiler-10-1 (10.1.243-1) ...\n",
            "Setting up cuda-drivers-510 (510.47.03-1) ...\n",
            "Setting up cuda-drivers (510.47.03-1) ...\n",
            "Setting up cuda-visual-tools-10-1 (10.1.243-1) ...\n",
            "Setting up cuda-libraries-dev-10-1 (10.1.243-1) ...\n",
            "Setting up cuda-samples-10-1 (10.1.243-1) ...\n",
            "Setting up cuda-cupti-10-1 (10.1.243-1) ...\n",
            "Setting up cuda-documentation-10-1 (10.1.243-1) ...\n",
            "Setting up cuda-runtime-10-1 (10.1.243-1) ...\n",
            "Setting up cuda-command-line-tools-10-1 (10.1.243-1) ...\n",
            "Setting up cuda-demo-suite-10-1 (10.1.243-1) ...\n",
            "Setting up cuda-tools-10-1 (10.1.243-1) ...\n",
            "Setting up cuda-toolkit-10-1 (10.1.243-1) ...\n",
            "Setting up cuda-10-1 (10.1.243-1) ...\n",
            "Processing triggers for man-db (2.8.3-2ubuntu0.1) ...\n",
            "Processing triggers for mime-support (3.60ubuntu1) ...\n",
            "Processing triggers for libc-bin (2.27-3ubuntu1.3) ...\n",
            "/sbin/ldconfig.real: /usr/local/lib/python3.7/dist-packages/ideep4py/lib/libmkldnn.so.0 is not a symbolic link\n",
            "\n"
          ]
        }
      ],
      "source": [
        "!wget https://developer.download.nvidia.com/compute/cuda/repos/ubuntu1804/x86_64/cuda-repo-ubuntu1804_10.1.105-1_amd64.deb\n",
        "!sudo dpkg -i cuda-repo-ubuntu1804_10.1.105-1_amd64.deb\n",
        "!sudo apt-key adv --fetch-keys https://developer.download.nvidia.com/compute/cuda/repos/ubuntu1804/x86_64/7fa2af80.pub\n",
        "!sudo apt-get update\n",
        "!sudo apt-get install cuda-10-1"
      ]
    },
    {
      "cell_type": "code",
      "execution_count": 13,
      "metadata": {
        "colab": {
          "base_uri": "https://localhost:8080/"
        },
        "id": "hSam_moAqQzB",
        "outputId": "4fb48ea9-c072-4511-eacf-16d69a3ff0c2"
      },
      "outputs": [
        {
          "name": "stderr",
          "output_type": "stream",
          "text": [
            "bash: line 2: export: `=/usr/local/cuda-10.1/lib64:/usr/lib64-nvidia': not a valid identifier\n",
            "bash: line 3: .bashrc: No such file or directory\n"
          ]
        }
      ],
      "source": [
        "%%bash\n",
        "export PATH=\"/usr/local/cuda-10.1/bin:$PATH\"\n",
        "export  =\"/usr/local/cuda-10.1/lib64:$LD_LIBRARY_PATH\"\n",
        "source .bashrc"
      ]
    },
    {
      "cell_type": "code",
      "execution_count": 14,
      "metadata": {
        "colab": {
          "base_uri": "https://localhost:8080/"
        },
        "id": "1rome_4UqnHV",
        "outputId": "9023f1e7-12c8-4903-97c7-ea6b6163931c"
      },
      "outputs": [
        {
          "name": "stdout",
          "output_type": "stream",
          "text": [
            "--2022-03-17 13:36:38--  https://developer.download.nvidia.com/compute/cuda/repos/ubuntu1804/x86_64/libcublas-dev_10.1.0.105-1_amd64.deb\n",
            "Resolving developer.download.nvidia.com (developer.download.nvidia.com)... 152.199.20.126\n",
            "Connecting to developer.download.nvidia.com (developer.download.nvidia.com)|152.199.20.126|:443... connected.\n",
            "HTTP request sent, awaiting response... 200 OK\n",
            "Length: 39903038 (38M) [application/x-deb]\n",
            "Saving to: ‘libcublas-dev_10.1.0.105-1_amd64.deb’\n",
            "\n",
            "libcublas-dev_10.1. 100%[===================>]  38.05M  17.5MB/s    in 2.2s    \n",
            "\n",
            "2022-03-17 13:36:41 (17.5 MB/s) - ‘libcublas-dev_10.1.0.105-1_amd64.deb’ saved [39903038/39903038]\n",
            "\n",
            "\u001b[1mdpkg:\u001b[0m \u001b[1;33mwarning:\u001b[0m downgrading libcublas-dev from 10.2.3.254-1 to 10.1.0.105-1\n",
            "(Reading database ... 129514 files and directories currently installed.)\n",
            "Preparing to unpack libcublas-dev_10.1.0.105-1_amd64.deb ...\n",
            "Unpacking libcublas-dev (10.1.0.105-1) over (10.2.3.254-1) ...\n",
            "Setting up libcublas-dev (10.1.0.105-1) ...\n"
          ]
        }
      ],
      "source": [
        "!wget https://developer.download.nvidia.com/compute/cuda/repos/ubuntu1804/x86_64/libcublas-dev_10.1.0.105-1_amd64.deb\n",
        "!dpkg -i libcublas-dev_10.1.0.105-1_amd64.deb"
      ]
    },
    {
      "cell_type": "code",
      "execution_count": 15,
      "metadata": {
        "colab": {
          "base_uri": "https://localhost:8080/"
        },
        "id": "V-2X0gzd1O-N",
        "outputId": "019b597f-afea-40b1-ba21-cc70aaae2419"
      },
      "outputs": [
        {
          "name": "stdout",
          "output_type": "stream",
          "text": [
            "Looking in links: https://download.pytorch.org/whl/torch_stable.html\n",
            "Collecting torchvision==0.4.0\n",
            "  Downloading https://download.pytorch.org/whl/cu92/torchvision-0.4.0%2Bcu92-cp37-cp37m-manylinux1_x86_64.whl (8.8 MB)\n",
            "\u001b[K     |████████████████████████████████| 8.8 MB 57.6 MB/s \n",
            "\u001b[?25hCollecting torch==1.2.0\n",
            "  Downloading https://download.pytorch.org/whl/cu92/torch-1.2.0%2Bcu92-cp37-cp37m-manylinux1_x86_64.whl (663.1 MB)\n",
            "\u001b[K     |████████████████████████████████| 663.1 MB 1.6 kB/s \n",
            "\u001b[?25hRequirement already satisfied: six in /usr/local/lib/python3.7/dist-packages (from torchvision==0.4.0) (1.15.0)\n",
            "Requirement already satisfied: numpy in /usr/local/lib/python3.7/dist-packages (from torchvision==0.4.0) (1.21.5)\n",
            "Requirement already satisfied: pillow>=4.1.1 in /usr/local/lib/python3.7/dist-packages (from torchvision==0.4.0) (7.1.2)\n",
            "Installing collected packages: torch, torchvision\n",
            "  Attempting uninstall: torch\n",
            "    Found existing installation: torch 1.3.1\n",
            "    Uninstalling torch-1.3.1:\n",
            "      Successfully uninstalled torch-1.3.1\n",
            "  Attempting uninstall: torchvision\n",
            "    Found existing installation: torchvision 0.11.1+cu111\n",
            "    Uninstalling torchvision-0.11.1+cu111:\n",
            "      Successfully uninstalled torchvision-0.11.1+cu111\n",
            "\u001b[31mERROR: pip's dependency resolver does not currently take into account all the packages that are installed. This behaviour is the source of the following dependency conflicts.\n",
            "torchtext 0.11.0 requires torch==1.10.0, but you have torch 1.2.0+cu92 which is incompatible.\n",
            "torchaudio 0.10.0+cu111 requires torch==1.10.0, but you have torch 1.2.0+cu92 which is incompatible.\u001b[0m\n",
            "Successfully installed torch-1.2.0+cu92 torchvision-0.4.0+cu92\n"
          ]
        }
      ],
      "source": [
        "!pip install torchvision==0.4.0 -f https://download.pytorch.org/whl/torch_stable.html"
      ]
    },
    {
      "cell_type": "code",
      "execution_count": 16,
      "metadata": {
        "colab": {
          "base_uri": "https://localhost:8080/"
        },
        "id": "NUlqC5sDSZTr",
        "outputId": "c56dd350-7621-446a-d9b8-bd9c875ac486"
      },
      "outputs": [
        {
          "name": "stdout",
          "output_type": "stream",
          "text": [
            "nvcc: NVIDIA (R) Cuda compiler driver\n",
            "Copyright (c) 2005-2019 NVIDIA Corporation\n",
            "Built on Sun_Jul_28_19:07:16_PDT_2019\n",
            "Cuda compilation tools, release 10.1, V10.1.243\n"
          ]
        }
      ],
      "source": [
        "!nvcc --version"
      ]
    },
    {
      "cell_type": "code",
      "execution_count": 1,
      "metadata": {
        "colab": {
          "base_uri": "https://localhost:8080/"
        },
        "id": "G5UhTYUvaI6c",
        "outputId": "af6d8317-1645-4fc5-9a99-67f6422a5fc3"
      },
      "outputs": [
        {
          "name": "stdout",
          "output_type": "stream",
          "text": [
            "/content\n",
            "Cloning into 'DepthPerception'...\n",
            "remote: Enumerating objects: 1739, done.\u001b[K\n",
            "remote: Counting objects: 100% (1739/1739), done.\u001b[K\n",
            "remote: Compressing objects: 100% (1543/1543), done.\u001b[K\n",
            "remote: Total 1739 (delta 205), reused 1717 (delta 186), pack-reused 0\u001b[K\n",
            "Receiving objects: 100% (1739/1739), 352.82 MiB | 14.10 MiB/s, done.\n",
            "Resolving deltas: 100% (205/205), done.\n"
          ]
        }
      ],
      "source": [
        "%cd /content\n",
        "#!rm -r /content/DepthPerception\n",
        "!git clone https://github.com/ASprabhu/DepthPerception.git"
      ]
    },
    {
      "cell_type": "code",
      "execution_count": 8,
      "metadata": {
        "colab": {
          "base_uri": "https://localhost:8080/"
        },
        "id": "pZ7dRmURKdUB",
        "outputId": "b3d1a227-ac88-4aba-8f31-a711711325d0"
      },
      "outputs": [
        {
          "name": "stdout",
          "output_type": "stream",
          "text": [
            "Archive:  /content/DepthPerception/Data/KITTI_mini.zip\n",
            "   creating: KITTI_mini/\n",
            "  inflating: __MACOSX/._KITTI_mini   \n",
            "  inflating: KITTI_mini/.DS_Store    \n",
            "  inflating: __MACOSX/KITTI_mini/._.DS_Store  \n",
            "   creating: KITTI_mini/object/\n",
            "  inflating: KITTI_mini/object/.DS_Store  \n",
            "  inflating: __MACOSX/KITTI_mini/object/._.DS_Store  \n",
            "   creating: KITTI_mini/object/training/\n",
            "  inflating: KITTI_mini/object/train.txt  \n",
            "  inflating: KITTI_mini/object/trainval.txt  \n",
            "   creating: KITTI_mini/object/testing/\n",
            "  inflating: KITTI_mini/object/test.txt  \n",
            "  inflating: KITTI_mini/object/val.txt  \n",
            "   creating: KITTI_mini/object/training/calib/\n",
            "  inflating: KITTI_mini/object/training/.DS_Store  \n",
            "  inflating: __MACOSX/KITTI_mini/object/training/._.DS_Store  \n",
            "   creating: KITTI_mini/object/training/image_2/\n",
            "   creating: KITTI_mini/object/training/image_3/\n",
            "   creating: KITTI_mini/object/training/label_2/\n",
            "   creating: KITTI_mini/object/training/velodyne/\n",
            "   creating: KITTI_mini/object/testing/calib/\n",
            "   creating: KITTI_mini/object/testing/image_2/\n",
            "   creating: KITTI_mini/object/testing/image_3/\n",
            "  inflating: KITTI_mini/object/training/calib/000009.txt  \n",
            "  inflating: KITTI_mini/object/training/calib/000008.txt  \n",
            "  inflating: KITTI_mini/object/training/calib/000006.txt  \n",
            "  inflating: KITTI_mini/object/training/calib/000007.txt  \n",
            "  inflating: KITTI_mini/object/training/calib/000005.txt  \n",
            "  inflating: KITTI_mini/object/training/calib/000010.txt  \n",
            "  inflating: KITTI_mini/object/training/calib/000004.txt  \n",
            "  inflating: KITTI_mini/object/training/calib/000000.txt  \n",
            "  inflating: KITTI_mini/object/training/calib/000001.txt  \n",
            "  inflating: KITTI_mini/object/training/calib/000003.txt  \n",
            "  inflating: KITTI_mini/object/training/calib/000002.txt  \n",
            "  inflating: KITTI_mini/object/training/image_2/000008.png  \n",
            "  inflating: KITTI_mini/object/training/image_2/000009.png  \n",
            "  inflating: KITTI_mini/object/training/image_2/000007.png  \n",
            "  inflating: KITTI_mini/object/training/image_2/000006.png  \n",
            "  inflating: KITTI_mini/object/training/image_2/000004.png  \n",
            "  inflating: KITTI_mini/object/training/image_2/000010.png  \n",
            "  inflating: KITTI_mini/object/training/image_2/000005.png  \n",
            "  inflating: KITTI_mini/object/training/image_2/000001.png  \n",
            "  inflating: KITTI_mini/object/training/image_2/000000.png  \n",
            "  inflating: KITTI_mini/object/training/image_2/000002.png  \n",
            "  inflating: KITTI_mini/object/training/image_2/000003.png  \n",
            "  inflating: KITTI_mini/object/training/image_3/000008.png  \n",
            "  inflating: KITTI_mini/object/training/image_3/000009.png  \n",
            "  inflating: KITTI_mini/object/training/image_3/000007.png  \n",
            "  inflating: KITTI_mini/object/training/image_3/000006.png  \n",
            "  inflating: KITTI_mini/object/training/image_3/000004.png  \n",
            "  inflating: KITTI_mini/object/training/image_3/000010.png  \n",
            "  inflating: KITTI_mini/object/training/image_3/000005.png  \n",
            "  inflating: KITTI_mini/object/training/image_3/000001.png  \n",
            "  inflating: KITTI_mini/object/training/image_3/000000.png  \n",
            "  inflating: KITTI_mini/object/training/image_3/000002.png  \n",
            "  inflating: KITTI_mini/object/training/image_3/000003.png  \n",
            "  inflating: KITTI_mini/object/training/label_2/000009.txt  \n",
            "  inflating: KITTI_mini/object/training/label_2/000008.txt  \n",
            "  inflating: KITTI_mini/object/training/label_2/000006.txt  \n",
            "  inflating: KITTI_mini/object/training/label_2/000007.txt  \n",
            "  inflating: KITTI_mini/object/training/label_2/000005.txt  \n",
            "  inflating: KITTI_mini/object/training/label_2/000010.txt  \n",
            "  inflating: KITTI_mini/object/training/label_2/000004.txt  \n",
            "  inflating: KITTI_mini/object/training/label_2/000000.txt  \n",
            "  inflating: KITTI_mini/object/training/label_2/000001.txt  \n",
            "  inflating: KITTI_mini/object/training/label_2/000003.txt  \n",
            "  inflating: KITTI_mini/object/training/label_2/000002.txt  \n",
            "  inflating: KITTI_mini/object/training/velodyne/000009.bin  \n",
            "  inflating: KITTI_mini/object/training/velodyne/000008.bin  \n",
            "  inflating: KITTI_mini/object/training/velodyne/000006.bin  \n",
            "  inflating: KITTI_mini/object/training/velodyne/000007.bin  \n",
            "  inflating: KITTI_mini/object/training/velodyne/000005.bin  \n",
            "  inflating: KITTI_mini/object/training/velodyne/000010.bin  \n",
            "  inflating: KITTI_mini/object/training/velodyne/000004.bin  \n",
            "  inflating: KITTI_mini/object/training/velodyne/000000.bin  \n",
            "  inflating: KITTI_mini/object/training/velodyne/000001.bin  \n",
            "  inflating: KITTI_mini/object/training/velodyne/000003.bin  \n",
            "  inflating: KITTI_mini/object/training/velodyne/000002.bin  \n",
            "  inflating: KITTI_mini/object/testing/calib/000009.txt  \n",
            "  inflating: KITTI_mini/object/testing/calib/000008.txt  \n",
            "  inflating: KITTI_mini/object/testing/calib/000006.txt  \n",
            "  inflating: KITTI_mini/object/testing/calib/000007.txt  \n",
            "  inflating: KITTI_mini/object/testing/calib/000005.txt  \n",
            "  inflating: KITTI_mini/object/testing/calib/000010.txt  \n",
            "  inflating: KITTI_mini/object/testing/calib/000004.txt  \n",
            "  inflating: KITTI_mini/object/testing/calib/000000.txt  \n",
            "  inflating: KITTI_mini/object/testing/calib/000001.txt  \n",
            "  inflating: KITTI_mini/object/testing/calib/000003.txt  \n",
            "  inflating: KITTI_mini/object/testing/calib/000002.txt  \n",
            "  inflating: KITTI_mini/object/testing/image_2/000008.png  \n",
            "  inflating: KITTI_mini/object/testing/image_2/000009.png  \n",
            "  inflating: KITTI_mini/object/testing/image_2/000007.png  \n",
            "  inflating: KITTI_mini/object/testing/image_2/000006.png  \n",
            "  inflating: KITTI_mini/object/testing/image_2/000004.png  \n",
            "  inflating: KITTI_mini/object/testing/image_2/000010.png  \n",
            "  inflating: KITTI_mini/object/testing/image_2/000005.png  \n",
            "  inflating: KITTI_mini/object/testing/image_2/000001.png  \n",
            "  inflating: KITTI_mini/object/testing/image_2/000000.png  \n",
            "  inflating: KITTI_mini/object/testing/image_2/000002.png  \n",
            "  inflating: KITTI_mini/object/testing/image_2/000003.png  \n",
            "  inflating: KITTI_mini/object/testing/image_3/000008.png  \n",
            "  inflating: KITTI_mini/object/testing/image_3/000009.png  \n",
            "  inflating: KITTI_mini/object/testing/image_3/000007.png  \n",
            "  inflating: KITTI_mini/object/testing/image_3/000006.png  \n",
            "  inflating: KITTI_mini/object/testing/image_3/000004.png  \n",
            "  inflating: KITTI_mini/object/testing/image_3/000010.png  \n",
            "  inflating: KITTI_mini/object/testing/image_3/000005.png  \n",
            "  inflating: KITTI_mini/object/testing/image_3/000001.png  \n",
            "  inflating: KITTI_mini/object/testing/image_3/000000.png  \n",
            "  inflating: KITTI_mini/object/testing/image_3/000002.png  \n",
            "  inflating: KITTI_mini/object/testing/image_3/000003.png  \n"
          ]
        }
      ],
      "source": [
        "!unzip /content/DepthPerception/Data/KITTI_mini.zip"
      ]
    },
    {
      "cell_type": "markdown",
      "metadata": {
        "id": "kGxQC7S8JtLE"
      },
      "source": [
        "Download Checkpoint"
      ]
    },
    {
      "cell_type": "code",
      "execution_count": 11,
      "metadata": {
        "colab": {
          "base_uri": "https://localhost:8080/"
        },
        "id": "9rGbEi84JNVH",
        "outputId": "018508ed-484b-4d24-b589-fb9f754578b1"
      },
      "outputs": [
        {
          "name": "stdout",
          "output_type": "stream",
          "text": [
            "--2022-03-17 18:00:03--  https://tri-ml-public.s3.amazonaws.com/github/packnet-sfm/models/PackNet01_MR_selfsup_D.ckpt\n",
            "Resolving tri-ml-public.s3.amazonaws.com (tri-ml-public.s3.amazonaws.com)... 54.231.196.65\n",
            "Connecting to tri-ml-public.s3.amazonaws.com (tri-ml-public.s3.amazonaws.com)|54.231.196.65|:443... connected.\n",
            "HTTP request sent, awaiting response... 200 OK\n",
            "Length: 519592327 (496M) [binary/octet-stream]\n",
            "Saving to: ‘PackNet01_MR_selfsup_D.ckpt’\n",
            "\n",
            "PackNet01_MR_selfsu 100%[===================>] 495.52M  15.7MB/s    in 34s     \n",
            "\n",
            "2022-03-17 18:00:38 (14.7 MB/s) - ‘PackNet01_MR_selfsup_D.ckpt’ saved [519592327/519592327]\n",
            "\n"
          ]
        }
      ],
      "source": [
        "!wget https://tri-ml-public.s3.amazonaws.com/github/packnet-sfm/models/PackNet01_MR_selfsup_D.ckpt"
      ]
    },
    {
      "cell_type": "code",
      "execution_count": 3,
      "metadata": {
        "colab": {
          "base_uri": "https://localhost:8080/"
        },
        "id": "yn_MPVRJJP8y",
        "outputId": "eedf977b-d5fa-4fe2-d80e-87eef2746da7"
      },
      "outputs": [
        {
          "name": "stdout",
          "output_type": "stream",
          "text": [
            "Collecting yacs\n",
            "  Downloading yacs-0.1.8-py3-none-any.whl (14 kB)\n",
            "Requirement already satisfied: PyYAML in /usr/local/lib/python3.7/dist-packages (from yacs) (3.13)\n",
            "Installing collected packages: yacs\n",
            "Successfully installed yacs-0.1.8\n"
          ]
        }
      ],
      "source": [
        "!pip install yacs"
      ]
    },
    {
      "cell_type": "code",
      "execution_count": 23,
      "metadata": {
        "colab": {
          "base_uri": "https://localhost:8080/"
        },
        "id": "bK0m0n4uJSA_",
        "outputId": "babd2f06-18d9-49c5-fb78-08af2a11fac3"
      },
      "outputs": [
        {
          "name": "stdout",
          "output_type": "stream",
          "text": [
            "Traceback (most recent call last):\n",
            "  File \"/content/DepthPerception/Code/packnet-sfm/scripts/infer.py\", line 20, in <module>\n",
            "    from packnet_sfm.models.model_wrapper import ModelWrapper\n",
            "ModuleNotFoundError: No module named 'packnet_sfm'\n"
          ]
        }
      ],
      "source": [
        "# check the --save option, should be --save npy for next step\n",
        "!python /content/DepthPerception/Code/packnet-sfm/scripts/infer.py --checkpoint /content/PackNet01_MR_selfsup_D.ckpt --input /content/KITTI_mini/object/testing/image_2 --output /content/KITTI_mini/object/testing/image_2_depth --save npy"
      ]
    },
    {
      "cell_type": "markdown",
      "metadata": {
        "id": "IlbZXkA9J4lA"
      },
      "source": [
        "**Pseudo Lidar Generation**"
      ]
    },
    {
      "cell_type": "code",
      "execution_count": 26,
      "metadata": {
        "colab": {
          "base_uri": "https://localhost:8080/"
        },
        "id": "0DzGI8FiI-8y",
        "outputId": "b808a331-b4b0-434a-d21e-2d0bd47a1ecf"
      },
      "outputs": [
        {
          "name": "stdout",
          "output_type": "stream",
          "text": [
            "Finish Depth 000000\n",
            "Finish Depth 000001\n",
            "Finish Depth 000002\n",
            "Finish Depth 000003\n",
            "Finish Depth 000004\n",
            "Finish Depth 000005\n",
            "Finish Depth 000006\n",
            "Finish Depth 000007\n",
            "Finish Depth 000008\n",
            "Finish Depth 000009\n",
            "Finish Depth 000010\n"
          ]
        }
      ],
      "source": [
        "!python3 ./Code/pseudo_lidar_psmnet/preprocessing/generate_lidar.py  \\\n",
        "    --calib_dir ./KITTI_mini/object/testing/calib/ \\\n",
        "    --save_dir ./KITTI_mini/object/testing/velodyne/ \\\n",
        "    --save_plot_dir ./KITTI_mini/object/testing/pseudo_lidar_plot/ \\\n",
        "    --disparity_dir ./KITTI_mini/object/testing/image_2_depth/ \\\n",
        "    --max_high 1 \\\n",
        "    --is_depth"
      ]
    },
    {
      "cell_type": "code",
      "execution_count": 13,
      "metadata": {
        "colab": {
          "base_uri": "https://localhost:8080/"
        },
        "id": "ObbN_SfcHDLk",
        "outputId": "9741f34f-4349-4546-c83a-853458a7e211"
      },
      "outputs": [
        {
          "name": "stdout",
          "output_type": "stream",
          "text": [
            "/content/DepthPerception\n",
            "Traceback (most recent call last):\n",
            "  File \"/content/DepthPerception/Code/generate_depth_lidar.py\", line 9, in <module>\n",
            "    from packnetSfm.scripts.infer import infer_and_save_depth\n",
            "  File \"/content/DepthPerception/Code/packnetSfm/scripts/infer.py\", line 14, in <module>\n",
            "    from packnet_sfm.models.model_wrapper import ModelWrapper\n",
            "ModuleNotFoundError: No module named 'packnet_sfm'\n"
          ]
        }
      ],
      "source": [
        "%cd /content/DepthPerception\n",
        "!python /content/DepthPerception/Code/generate_depth_lidar.py"
      ]
    },
    {
      "cell_type": "code",
      "execution_count": 6,
      "metadata": {
        "id": "kCt7fCWGKnJF"
      },
      "outputs": [],
      "source": [
        "!cp /content/DepthPerception/Code/pseudo_lidar_psmnet/preprocessing/kitti_util.py /content/DepthPerception/Code/packnet-sfm/scripts"
      ]
    },
    {
      "cell_type": "code",
      "execution_count": 23,
      "metadata": {
        "colab": {
          "base_uri": "https://localhost:8080/"
        },
        "id": "3rqQfqjR8jBw",
        "outputId": "01722777-b5cc-47cf-ca5f-dc95466434df"
      },
      "outputs": [
        {
          "name": "stdout",
          "output_type": "stream",
          "text": [
            "/content\n",
            "\u001b[32m### Preparing Model\u001b[0m\n",
            "\u001b[33mModel: SelfSupModel\u001b[0m\n",
            "\u001b[33mDepthNet: PackNet01\u001b[0m\n",
            "\u001b[33mPoseNet: PoseNet\u001b[0m\n",
            "Found 11 files\n",
            "Saving \u001b[1m\u001b[36m/content/KITTI_mini/object/testing/image_2/000000.png\u001b[0m to \u001b[1m\u001b[35m/content/KITTI_mini/object/testing/image_2_depth/000000.npy\u001b[0m\n",
            "/content/KITTI_mini/object/testing/calib/ 000000\n",
            "Is tensor\n",
            "(384, 640)\n",
            "Finish Depth 000000\n",
            "Saving \u001b[1m\u001b[36m/content/KITTI_mini/object/testing/image_2/000001.png\u001b[0m to \u001b[1m\u001b[35m/content/KITTI_mini/object/testing/image_2_depth/000001.npy\u001b[0m\n",
            "/content/KITTI_mini/object/testing/calib/ 000001\n",
            "Is tensor\n",
            "(384, 640)\n",
            "Finish Depth 000001\n",
            "Saving \u001b[1m\u001b[36m/content/KITTI_mini/object/testing/image_2/000002.png\u001b[0m to \u001b[1m\u001b[35m/content/KITTI_mini/object/testing/image_2_depth/000002.npy\u001b[0m\n",
            "/content/KITTI_mini/object/testing/calib/ 000002\n",
            "Is tensor\n",
            "(384, 640)\n",
            "Finish Depth 000002\n",
            "Saving \u001b[1m\u001b[36m/content/KITTI_mini/object/testing/image_2/000003.png\u001b[0m to \u001b[1m\u001b[35m/content/KITTI_mini/object/testing/image_2_depth/000003.npy\u001b[0m\n",
            "/content/KITTI_mini/object/testing/calib/ 000003\n",
            "Is tensor\n",
            "(384, 640)\n",
            "Finish Depth 000003\n",
            "Saving \u001b[1m\u001b[36m/content/KITTI_mini/object/testing/image_2/000004.png\u001b[0m to \u001b[1m\u001b[35m/content/KITTI_mini/object/testing/image_2_depth/000004.npy\u001b[0m\n",
            "/content/KITTI_mini/object/testing/calib/ 000004\n",
            "Is tensor\n",
            "(384, 640)\n",
            "Finish Depth 000004\n",
            "Saving \u001b[1m\u001b[36m/content/KITTI_mini/object/testing/image_2/000005.png\u001b[0m to \u001b[1m\u001b[35m/content/KITTI_mini/object/testing/image_2_depth/000005.npy\u001b[0m\n",
            "/content/KITTI_mini/object/testing/calib/ 000005\n",
            "Is tensor\n",
            "(384, 640)\n",
            "Finish Depth 000005\n",
            "Saving \u001b[1m\u001b[36m/content/KITTI_mini/object/testing/image_2/000006.png\u001b[0m to \u001b[1m\u001b[35m/content/KITTI_mini/object/testing/image_2_depth/000006.npy\u001b[0m\n",
            "/content/KITTI_mini/object/testing/calib/ 000006\n",
            "Is tensor\n",
            "(384, 640)\n",
            "Finish Depth 000006\n",
            "Saving \u001b[1m\u001b[36m/content/KITTI_mini/object/testing/image_2/000007.png\u001b[0m to \u001b[1m\u001b[35m/content/KITTI_mini/object/testing/image_2_depth/000007.npy\u001b[0m\n",
            "/content/KITTI_mini/object/testing/calib/ 000007\n",
            "Is tensor\n",
            "(384, 640)\n",
            "Finish Depth 000007\n",
            "Saving \u001b[1m\u001b[36m/content/KITTI_mini/object/testing/image_2/000008.png\u001b[0m to \u001b[1m\u001b[35m/content/KITTI_mini/object/testing/image_2_depth/000008.npy\u001b[0m\n",
            "/content/KITTI_mini/object/testing/calib/ 000008\n",
            "Is tensor\n",
            "(384, 640)\n",
            "Finish Depth 000008\n",
            "Saving \u001b[1m\u001b[36m/content/KITTI_mini/object/testing/image_2/000009.png\u001b[0m to \u001b[1m\u001b[35m/content/KITTI_mini/object/testing/image_2_depth/000009.npy\u001b[0m\n",
            "/content/KITTI_mini/object/testing/calib/ 000009\n",
            "Is tensor\n",
            "(384, 640)\n",
            "Finish Depth 000009\n",
            "Saving \u001b[1m\u001b[36m/content/KITTI_mini/object/testing/image_2/000010.png\u001b[0m to \u001b[1m\u001b[35m/content/KITTI_mini/object/testing/image_2_depth/000010.npy\u001b[0m\n",
            "/content/KITTI_mini/object/testing/calib/ 000010\n",
            "Is tensor\n",
            "(384, 640)\n",
            "Finish Depth 000010\n"
          ]
        }
      ],
      "source": [
        "# check the --save option, should be --save npy for next step\n",
        "%cd /content\n",
        "!python3 ./code_dev/packnet-sfm/scripts/infer.py --checkpoint PackNet01_MR_selfsup_D.ckpt \\\n",
        "    --input ./KITTI_mini/object/testing/image_2 \\\n",
        "    --save npy \\\n",
        "    --calib_dir ./KITTI_mini/object/testing/calib/ \\\n",
        "    --save_dir ./KITTI_mini/object/testing/velodyne/ \\\n",
        "    --save_plot_dir ./KITTI_mini/object/testing/pseudo_lidar_plot \\\n",
        "    --max_high 1 \\\n",
        "    --is_depth \\\n",
        "    --save_plot True \\\n",
        "    --output ./KITTI_mini/object/testing/image_2_depth/"
      ]
    },
    {
      "cell_type": "code",
      "execution_count": 22,
      "metadata": {
        "id": "e1RyjQY78lw7"
      },
      "outputs": [],
      "source": []
    }
  ],
  "metadata": {
    "accelerator": "GPU",
    "colab": {
      "collapsed_sections": [],
      "machine_shape": "hm",
      "name": "Packnet+pseudo_lidar.ipynb",
      "provenance": []
    },
    "kernelspec": {
      "display_name": "Python 3",
      "name": "python3"
    },
    "language_info": {
      "name": "python"
    }
  },
  "nbformat": 4,
  "nbformat_minor": 0
}
